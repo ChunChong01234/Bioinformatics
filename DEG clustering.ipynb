{
 "cells": [
  {
   "cell_type": "code",
   "execution_count": 6,
   "metadata": {},
   "outputs": [
    {
     "data": {
      "text/plain": [
       "AnnData object with n_obs × n_vars = 8 × 22244"
      ]
     },
     "execution_count": 6,
     "metadata": {},
     "output_type": "execute_result"
    }
   ],
   "source": [
    "import scanpy as sc\n",
    "import pandas as pd\n",
    "\n",
    "\n",
    "df= pd.read_csv('DEG_GSE291852_raw_counts.txt', delimiter='\\t',index_col=0)\n",
    "# Read the file and transpose it for adata\n",
    "adata = sc.AnnData(df.T)\n",
    "adata"
   ]
  },
  {
   "cell_type": "code",
   "execution_count": 7,
   "metadata": {},
   "outputs": [
    {
     "data": {
      "text/plain": [
       "(Empty DataFrame\n",
       " Columns: []\n",
       " Index: [CON1, CON2, CON3, CON4, NPT1, NPT2, NPT3, NPT4],\n",
       " Empty DataFrame\n",
       " Columns: []\n",
       " Index: [Zglp1, Vmn2r65, Gm10024, Oog3, Ldlrap1, Mdn1, Ifi208, Wfdc17, Mfap1b, Tmsb15b2, Cstdc5, Gm15114, A930017K11Rik, Vmn1r223, Umad1, Gm3373, Dnajc3, Niban3, Rsph3b, Rnaset2a, Fam174b, Spink13, Apela, Gm11837, Ramacl, Prcd, Gm10710, Myocos, Cep85l, Gm10406, Cstdc6, Or10h1b, Or10h1, Btnl1, Isg15, Pira12, Defa30, Vmn2r121, Sirpb1c, Mup9, Gm1979, Gm1988, Rps12-ps18, Gm1993, Ubl5c, LOC100038995, Gm2003, Mup10, LOC100039010, Gm20793, Mup-ps12, Mup11, LOC100039029, Gm2012, Gm20795, Eif1ad3, Gm10471, Eif1ad4, Mup12, Gm16404, Gm2026, Gm2030, Gm2036, Gm2042, Mup13, Eif1ad5, Mup14, Gm14525, Gm14295, Ccdc152, Mup15, Mup16, Mup17, Gm2102, Ctxnd1, Gm10058, Gm12693, Gm2128, Gm2137, Pramel51, H2ab1, Gm10147, Gm16500, Gm10096, Gm2237, Gm2244, Gm10487, Gm11810, Vmn1r186, Vmn1r187, Gm10029, Gm10486, Tgif2lx2, Gm20806, Gm14819, Gm20807, Tcf24, Gm20809, Msmp, Gm10634, ...]\n",
       " \n",
       " [22244 rows x 0 columns],\n",
       " array([[   8,    0,    0, ...,  129,  917,  650],\n",
       "        [   4,    0,    0, ...,  215, 1268,  908],\n",
       "        [   7,    0,    0, ...,  168, 1434,  727],\n",
       "        ...,\n",
       "        [   9,    0,    1, ...,   84, 1978, 1105],\n",
       "        [   8,    0,    1, ...,   47, 1997,  785],\n",
       "        [  11,    0,    0, ...,   57, 2042,  722]]))"
      ]
     },
     "execution_count": 7,
     "metadata": {},
     "output_type": "execute_result"
    }
   ],
   "source": [
    "adata.obs, adata.var, adata.X # metadata, gene names, and data matrix"
   ]
  },
  {
   "cell_type": "code",
   "execution_count": 8,
   "metadata": {},
   "outputs": [
    {
     "data": {
      "application/vnd.microsoft.datawrangler.viewer.v0+json": {
       "columns": [
        {
         "name": "index",
         "rawType": "object",
         "type": "string"
        },
        {
         "name": "Mt",
         "rawType": "bool",
         "type": "boolean"
        }
       ],
       "conversionMethod": "pd.DataFrame",
       "ref": "68da449b-7d28-4cce-af36-182f769295c5",
       "rows": [
        [
         "Zglp1",
         "False"
        ],
        [
         "Vmn2r65",
         "False"
        ],
        [
         "Gm10024",
         "False"
        ],
        [
         "Oog3",
         "False"
        ],
        [
         "Ldlrap1",
         "False"
        ],
        [
         "Mdn1",
         "False"
        ],
        [
         "Ifi208",
         "False"
        ],
        [
         "Wfdc17",
         "False"
        ],
        [
         "Mfap1b",
         "False"
        ],
        [
         "Tmsb15b2",
         "False"
        ],
        [
         "Cstdc5",
         "False"
        ],
        [
         "Gm15114",
         "False"
        ],
        [
         "A930017K11Rik",
         "False"
        ],
        [
         "Vmn1r223",
         "False"
        ],
        [
         "Umad1",
         "False"
        ],
        [
         "Gm3373",
         "False"
        ],
        [
         "Dnajc3",
         "False"
        ],
        [
         "Niban3",
         "False"
        ],
        [
         "Rsph3b",
         "False"
        ],
        [
         "Rnaset2a",
         "False"
        ],
        [
         "Fam174b",
         "False"
        ],
        [
         "Spink13",
         "False"
        ],
        [
         "Apela",
         "False"
        ],
        [
         "Gm11837",
         "False"
        ],
        [
         "Ramacl",
         "False"
        ],
        [
         "Prcd",
         "False"
        ],
        [
         "Gm10710",
         "False"
        ],
        [
         "Myocos",
         "False"
        ],
        [
         "Cep85l",
         "False"
        ],
        [
         "Gm10406",
         "False"
        ],
        [
         "Cstdc6",
         "False"
        ],
        [
         "Or10h1b",
         "False"
        ],
        [
         "Or10h1",
         "False"
        ],
        [
         "Btnl1",
         "False"
        ],
        [
         "Isg15",
         "False"
        ],
        [
         "Pira12",
         "False"
        ],
        [
         "Defa30",
         "False"
        ],
        [
         "Vmn2r121",
         "False"
        ],
        [
         "Sirpb1c",
         "False"
        ],
        [
         "Mup9",
         "False"
        ],
        [
         "Gm1979",
         "False"
        ],
        [
         "Gm1988",
         "False"
        ],
        [
         "Rps12-ps18",
         "False"
        ],
        [
         "Gm1993",
         "False"
        ],
        [
         "Ubl5c",
         "False"
        ],
        [
         "LOC100038995",
         "False"
        ],
        [
         "Gm2003",
         "False"
        ],
        [
         "Mup10",
         "False"
        ],
        [
         "LOC100039010",
         "False"
        ],
        [
         "Gm20793",
         "False"
        ]
       ],
       "shape": {
        "columns": 1,
        "rows": 22244
       }
      },
      "text/html": [
       "<div>\n",
       "<style scoped>\n",
       "    .dataframe tbody tr th:only-of-type {\n",
       "        vertical-align: middle;\n",
       "    }\n",
       "\n",
       "    .dataframe tbody tr th {\n",
       "        vertical-align: top;\n",
       "    }\n",
       "\n",
       "    .dataframe thead th {\n",
       "        text-align: right;\n",
       "    }\n",
       "</style>\n",
       "<table border=\"1\" class=\"dataframe\">\n",
       "  <thead>\n",
       "    <tr style=\"text-align: right;\">\n",
       "      <th></th>\n",
       "      <th>Mt</th>\n",
       "    </tr>\n",
       "  </thead>\n",
       "  <tbody>\n",
       "    <tr>\n",
       "      <th>Zglp1</th>\n",
       "      <td>False</td>\n",
       "    </tr>\n",
       "    <tr>\n",
       "      <th>Vmn2r65</th>\n",
       "      <td>False</td>\n",
       "    </tr>\n",
       "    <tr>\n",
       "      <th>Gm10024</th>\n",
       "      <td>False</td>\n",
       "    </tr>\n",
       "    <tr>\n",
       "      <th>Oog3</th>\n",
       "      <td>False</td>\n",
       "    </tr>\n",
       "    <tr>\n",
       "      <th>Ldlrap1</th>\n",
       "      <td>False</td>\n",
       "    </tr>\n",
       "    <tr>\n",
       "      <th>...</th>\n",
       "      <td>...</td>\n",
       "    </tr>\n",
       "    <tr>\n",
       "      <th>Arfip1</th>\n",
       "      <td>False</td>\n",
       "    </tr>\n",
       "    <tr>\n",
       "      <th>Prmt6</th>\n",
       "      <td>False</td>\n",
       "    </tr>\n",
       "    <tr>\n",
       "      <th>Ifi44</th>\n",
       "      <td>False</td>\n",
       "    </tr>\n",
       "    <tr>\n",
       "      <th>Tiparp</th>\n",
       "      <td>False</td>\n",
       "    </tr>\n",
       "    <tr>\n",
       "      <th>Kdm1a</th>\n",
       "      <td>False</td>\n",
       "    </tr>\n",
       "  </tbody>\n",
       "</table>\n",
       "<p>22244 rows × 1 columns</p>\n",
       "</div>"
      ],
      "text/plain": [
       "            Mt\n",
       "Zglp1    False\n",
       "Vmn2r65  False\n",
       "Gm10024  False\n",
       "Oog3     False\n",
       "Ldlrap1  False\n",
       "...        ...\n",
       "Arfip1   False\n",
       "Prmt6    False\n",
       "Ifi44    False\n",
       "Tiparp   False\n",
       "Kdm1a    False\n",
       "\n",
       "[22244 rows x 1 columns]"
      ]
     },
     "execution_count": 8,
     "metadata": {},
     "output_type": "execute_result"
    }
   ],
   "source": [
    "mt_mask = (\n",
    "    adata.var_names.str.startswith('MT-') | \n",
    "    adata.var_names.str.startswith('Mt-') | \n",
    "    adata.var_names.str.startswith('mt-')\n",
    ")\n",
    "# Look for mitochondrial genes, that start with Mt, MT or mt\n",
    "\n",
    "adata.var['Mt'] = mt_mask\n",
    "# Add a column in var fort mitochondrial genes\n",
    "\n",
    "adata.var"
   ]
  },
  {
   "cell_type": "code",
   "execution_count": 9,
   "metadata": {},
   "outputs": [],
   "source": [
    "conditions = ['Control','Control','Control','Control', 'Treated','Treated','Treated','Treated']\n",
    "# Define the conditions for each condition in the experiment, u can examine in adata.obs\n",
    "adata.obs['condition'] = conditions\n"
   ]
  },
  {
   "cell_type": "code",
   "execution_count": 10,
   "metadata": {},
   "outputs": [
    {
     "data": {
      "text/plain": [
       "AnnData object with n_obs × n_vars = 8 × 22244\n",
       "    obs: 'condition'\n",
       "    var: 'Mt'\n",
       "    uns: 'log1p'"
      ]
     },
     "execution_count": 10,
     "metadata": {},
     "output_type": "execute_result"
    }
   ],
   "source": [
    "sc.pp.normalize_total(adata, target_sum=1e4)\n",
    "# Normalize data to max 10000\n",
    "\n",
    "sc.pp.log1p(adata)\n",
    "# Log transform the data\n",
    "\n",
    "adata"
   ]
  },
  {
   "cell_type": "code",
   "execution_count": null,
   "metadata": {},
   "outputs": [
    {
     "data": {
      "text/plain": [
       "(4, 22244)"
      ]
     },
     "execution_count": 23,
     "metadata": {},
     "output_type": "execute_result"
    }
   ],
   "source": []
  },
  {
   "cell_type": "code",
   "execution_count": null,
   "metadata": {},
   "outputs": [
    {
     "data": {
      "image/png": "[encoded data removed]",
      "text/plain": [
       "<Figure size 640x480 with 1 Axes>"
      ]
     },
     "metadata": {},
     "output_type": "display_data"
    },
    {
     "data": {
      "image/png": "[encoded data removed]",
      "text/plain": [
       "<Figure size 640x480 with 1 Axes>"
      ]
     },
     "metadata": {},
     "output_type": "display_data"
    }
   ],
   "source": [
    "import matplotlib.pyplot as plt\n",
    "\n",
    "flattened_data = adata.X[0:4].flatten()\n",
    "# Flatten the data to plot a histogram, for [0:4] for control\n",
    "# Plot a histogram (log scale)\n",
    "\n",
    "plt.hist(flattened_data, bins=1000, log=True)\n",
    "plt.xlabel(\"Expression value (log1p normalized) for control\")\n",
    "plt.ylabel(\"Frequency\")\n",
    "plt.title(\"Distribution of Normalized Expression Values\")\n",
    "plt.show()\n",
    "# Visuzlize the data how gene have expression values, eg. Most gene has low expression value. \n",
    "\n",
    "flattened_data = adata.X[4:8].flatten()\n",
    "# Flatten the data to plot a histogram, for [4:8] for control\n",
    "# Plot a histogram (log scale)\n",
    "\n",
    "plt.hist(flattened_data, bins=1000, log=True)\n",
    "plt.xlabel(\"Expression value (log1p normalized) for treatment\")\n",
    "plt.ylabel(\"Frequency\")\n",
    "plt.title(\"Distribution of Normalized Expression Values\")\n",
    "plt.show()\n",
    "# Have some changes in expression "
   ]
  },
  {
   "cell_type": "code",
   "execution_count": 25,
   "metadata": {},
   "outputs": [
    {
     "data": {
      "application/vnd.microsoft.datawrangler.viewer.v0+json": {
       "columns": [
        {
         "name": "index",
         "rawType": "object",
         "type": "string"
        },
        {
         "name": "condition",
         "rawType": "category",
         "type": "unknown"
        },
        {
         "name": "n_genes_by_counts",
         "rawType": "int64",
         "type": "integer"
        },
        {
         "name": "log1p_n_genes_by_counts",
         "rawType": "float64",
         "type": "float"
        },
        {
         "name": "total_counts",
         "rawType": "float32",
         "type": "float"
        },
        {
         "name": "log1p_total_counts",
         "rawType": "float32",
         "type": "float"
        },
        {
         "name": "pct_counts_in_top_50_genes",
         "rawType": "float64",
         "type": "float"
        },
        {
         "name": "pct_counts_in_top_100_genes",
         "rawType": "float64",
         "type": "float"
        },
        {
         "name": "pct_counts_in_top_200_genes",
         "rawType": "float64",
         "type": "float"
        },
        {
         "name": "pct_counts_in_top_500_genes",
         "rawType": "float64",
         "type": "float"
        }
       ],
       "conversionMethod": "pd.DataFrame",
       "ref": "2d1ffd5a-59a4-4f97-8e54-7e10d5e18c9d",
       "rows": [
        [
         "CON1",
         "Control",
         "16232",
         "9.694801486310846",
         "5561.711",
         "8.623841",
         "2.678875883376715",
         "4.706894511853156",
         "8.140014611228208",
         "16.58370601794461"
        ],
        [
         "CON2",
         "Control",
         "16283",
         "9.69793830962287",
         "5513.0186",
         "8.615049",
         "2.7433433486893857",
         "4.794379804744842",
         "8.302129173205255",
         "16.828077430269367"
        ],
        [
         "CON3",
         "Control",
         "16180",
         "9.691592993399809",
         "5432.603",
         "8.600358",
         "2.804851819225486",
         "4.9093653264061174",
         "8.507325169641373",
         "17.29076528466594"
        ],
        [
         "CON4",
         "Control",
         "16247",
         "9.695725103260221",
         "5569.1904",
         "8.625184",
         "2.6825798403289864",
         "4.692741484697741",
         "8.127439651456788",
         "16.513016773320924"
        ],
        [
         "NPT1",
         "Treated",
         "16781",
         "9.728062162430014",
         "5507.032",
         "8.613963",
         "2.766090001048021",
         "4.842402125097155",
         "8.37129688784812",
         "16.884258764007527"
        ],
        [
         "NPT2",
         "Treated",
         "16793",
         "9.72877695874351",
         "5472.8213",
         "8.607732",
         "2.785511386701579",
         "4.877700617834687",
         "8.438605733740363",
         "17.06831793995684"
        ],
        [
         "NPT3",
         "Treated",
         "17411",
         "9.764914902672189",
         "5415.438",
         "8.597194",
         "2.8222078341929184",
         "4.949459680247181",
         "8.628449244316267",
         "17.457429674702954"
        ],
        [
         "NPT4",
         "Treated",
         "17789",
         "9.786391780659882",
         "5424.9873",
         "8.598955",
         "2.803238216823304",
         "4.90128415119059",
         "8.5357387609094",
         "17.371804945540088"
        ]
       ],
       "shape": {
        "columns": 9,
        "rows": 8
       }
      },
      "text/html": [
       "<div>\n",
       "<style scoped>\n",
       "    .dataframe tbody tr th:only-of-type {\n",
       "        vertical-align: middle;\n",
       "    }\n",
       "\n",
       "    .dataframe tbody tr th {\n",
       "        vertical-align: top;\n",
       "    }\n",
       "\n",
       "    .dataframe thead th {\n",
       "        text-align: right;\n",
       "    }\n",
       "</style>\n",
       "<table border=\"1\" class=\"dataframe\">\n",
       "  <thead>\n",
       "    <tr style=\"text-align: right;\">\n",
       "      <th></th>\n",
       "      <th>condition</th>\n",
       "      <th>n_genes_by_counts</th>\n",
       "      <th>log1p_n_genes_by_counts</th>\n",
       "      <th>total_counts</th>\n",
       "      <th>log1p_total_counts</th>\n",
       "      <th>pct_counts_in_top_50_genes</th>\n",
       "      <th>pct_counts_in_top_100_genes</th>\n",
       "      <th>pct_counts_in_top_200_genes</th>\n",
       "      <th>pct_counts_in_top_500_genes</th>\n",
       "    </tr>\n",
       "  </thead>\n",
       "  <tbody>\n",
       "    <tr>\n",
       "      <th>CON1</th>\n",
       "      <td>Control</td>\n",
       "      <td>16232</td>\n",
       "      <td>9.694801</td>\n",
       "      <td>5561.710938</td>\n",
       "      <td>8.623841</td>\n",
       "      <td>2.678876</td>\n",
       "      <td>4.706895</td>\n",
       "      <td>8.140015</td>\n",
       "      <td>16.583706</td>\n",
       "    </tr>\n",
       "    <tr>\n",
       "      <th>CON2</th>\n",
       "      <td>Control</td>\n",
       "      <td>16283</td>\n",
       "      <td>9.697938</td>\n",
       "      <td>5513.018555</td>\n",
       "      <td>8.615049</td>\n",
       "      <td>2.743343</td>\n",
       "      <td>4.794380</td>\n",
       "      <td>8.302129</td>\n",
       "      <td>16.828077</td>\n",
       "    </tr>\n",
       "    <tr>\n",
       "      <th>CON3</th>\n",
       "      <td>Control</td>\n",
       "      <td>16180</td>\n",
       "      <td>9.691593</td>\n",
       "      <td>5432.603027</td>\n",
       "      <td>8.600358</td>\n",
       "      <td>2.804852</td>\n",
       "      <td>4.909365</td>\n",
       "      <td>8.507325</td>\n",
       "      <td>17.290765</td>\n",
       "    </tr>\n",
       "    <tr>\n",
       "      <th>CON4</th>\n",
       "      <td>Control</td>\n",
       "      <td>16247</td>\n",
       "      <td>9.695725</td>\n",
       "      <td>5569.190430</td>\n",
       "      <td>8.625184</td>\n",
       "      <td>2.682580</td>\n",
       "      <td>4.692741</td>\n",
       "      <td>8.127440</td>\n",
       "      <td>16.513017</td>\n",
       "    </tr>\n",
       "    <tr>\n",
       "      <th>NPT1</th>\n",
       "      <td>Treated</td>\n",
       "      <td>16781</td>\n",
       "      <td>9.728062</td>\n",
       "      <td>5507.032227</td>\n",
       "      <td>8.613963</td>\n",
       "      <td>2.766090</td>\n",
       "      <td>4.842402</td>\n",
       "      <td>8.371297</td>\n",
       "      <td>16.884259</td>\n",
       "    </tr>\n",
       "    <tr>\n",
       "      <th>NPT2</th>\n",
       "      <td>Treated</td>\n",
       "      <td>16793</td>\n",
       "      <td>9.728777</td>\n",
       "      <td>5472.821289</td>\n",
       "      <td>8.607732</td>\n",
       "      <td>2.785511</td>\n",
       "      <td>4.877701</td>\n",
       "      <td>8.438606</td>\n",
       "      <td>17.068318</td>\n",
       "    </tr>\n",
       "    <tr>\n",
       "      <th>NPT3</th>\n",
       "      <td>Treated</td>\n",
       "      <td>17411</td>\n",
       "      <td>9.764915</td>\n",
       "      <td>5415.437988</td>\n",
       "      <td>8.597194</td>\n",
       "      <td>2.822208</td>\n",
       "      <td>4.949460</td>\n",
       "      <td>8.628449</td>\n",
       "      <td>17.457430</td>\n",
       "    </tr>\n",
       "    <tr>\n",
       "      <th>NPT4</th>\n",
       "      <td>Treated</td>\n",
       "      <td>17789</td>\n",
       "      <td>9.786392</td>\n",
       "      <td>5424.987305</td>\n",
       "      <td>8.598955</td>\n",
       "      <td>2.803238</td>\n",
       "      <td>4.901284</td>\n",
       "      <td>8.535739</td>\n",
       "      <td>17.371805</td>\n",
       "    </tr>\n",
       "  </tbody>\n",
       "</table>\n",
       "</div>"
      ],
      "text/plain": [
       "     condition  n_genes_by_counts  log1p_n_genes_by_counts  total_counts  \\\n",
       "CON1   Control              16232                 9.694801   5561.710938   \n",
       "CON2   Control              16283                 9.697938   5513.018555   \n",
       "CON3   Control              16180                 9.691593   5432.603027   \n",
       "CON4   Control              16247                 9.695725   5569.190430   \n",
       "NPT1   Treated              16781                 9.728062   5507.032227   \n",
       "NPT2   Treated              16793                 9.728777   5472.821289   \n",
       "NPT3   Treated              17411                 9.764915   5415.437988   \n",
       "NPT4   Treated              17789                 9.786392   5424.987305   \n",
       "\n",
       "      log1p_total_counts  pct_counts_in_top_50_genes  \\\n",
       "CON1            8.623841                    2.678876   \n",
       "CON2            8.615049                    2.743343   \n",
       "CON3            8.600358                    2.804852   \n",
       "CON4            8.625184                    2.682580   \n",
       "NPT1            8.613963                    2.766090   \n",
       "NPT2            8.607732                    2.785511   \n",
       "NPT3            8.597194                    2.822208   \n",
       "NPT4            8.598955                    2.803238   \n",
       "\n",
       "      pct_counts_in_top_100_genes  pct_counts_in_top_200_genes  \\\n",
       "CON1                     4.706895                     8.140015   \n",
       "CON2                     4.794380                     8.302129   \n",
       "CON3                     4.909365                     8.507325   \n",
       "CON4                     4.692741                     8.127440   \n",
       "NPT1                     4.842402                     8.371297   \n",
       "NPT2                     4.877701                     8.438606   \n",
       "NPT3                     4.949460                     8.628449   \n",
       "NPT4                     4.901284                     8.535739   \n",
       "\n",
       "      pct_counts_in_top_500_genes  \n",
       "CON1                    16.583706  \n",
       "CON2                    16.828077  \n",
       "CON3                    17.290765  \n",
       "CON4                    16.513017  \n",
       "NPT1                    16.884259  \n",
       "NPT2                    17.068318  \n",
       "NPT3                    17.457430  \n",
       "NPT4                    17.371805  "
      ]
     },
     "execution_count": 25,
     "metadata": {},
     "output_type": "execute_result"
    }
   ],
   "source": [
    "sc.pp.calculate_qc_metrics(adata, inplace=True)\n",
    "# Calculate quality control metrics, u can examine in adata.obs\n",
    "adata.obs"
   ]
  },
  {
   "cell_type": "code",
   "execution_count": null,
   "metadata": {},
   "outputs": [],
   "source": [
    "# Perform DEG analysis (treated vs. control)\n",
    "sc.tl.rank_genes_groups(\n",
    "    adata,\n",
    "    groupby='condition',        # Column in adata.obs containing groups\n",
    "    groups=['Treated'],         # Target group (treated)\n",
    "    reference='Control',        # Reference group (control)\n",
    "    method='t-test',            # Statistical t-test\n",
    "    use_raw=False               # Use processed data (not raw counts), if u set raw for adata, u can use not raw here\n",
    ")"
   ]
  },
  {
   "cell_type": "code",
   "execution_count": null,
   "metadata": {},
   "outputs": [
    {
     "data": {
      "text/plain": [
       "{'params': {'groupby': 'condition',\n",
       "  'reference': 'Control',\n",
       "  'method': 't-test',\n",
       "  'use_raw': False,\n",
       "  'layer': None,\n",
       "  'corr_method': 'benjamini-hochberg'},\n",
       " 'names': rec.array([('Ina',), ('Eif5a',), ('Sult1a1',), ..., ('Ppp1r36',),\n",
       "            ('Ddc',), ('Cyp2g1',)],\n",
       "           dtype=[('Treated', 'O')]),\n",
       " 'scores': rec.array([( 35.1792  ,), ( 32.732117,), ( 22.113731,), ...,\n",
       "            (-18.920444,), (-19.355425,), (-22.53577 ,)],\n",
       "           dtype=[('Treated', '<f4')]),\n",
       " 'pvals': rec.array([(5.05069394e-05,), (5.37719326e-07,), (5.68974407e-07,), ...,\n",
       "            (1.63228957e-05,), (1.34602983e-05,), (1.01109748e-05,)],\n",
       "           dtype=[('Treated', '<f8')]),\n",
       " 'pvals_adj': rec.array([(0.01973831,), (0.00632813,), (0.00632813,), ...,\n",
       "            (0.01296737,), (0.01197644,), (0.01074356,)],\n",
       "           dtype=[('Treated', '<f8')]),\n",
       " 'logfoldchanges': rec.array([(20.780218  ,), ( 0.57213813,), ( 1.2914876 ,), ...,\n",
       "            (-1.865873  ,), (-1.6436471 ,), (-2.7605052 ,)],\n",
       "           dtype=[('Treated', '<f4')])}"
      ]
     },
     "execution_count": 26,
     "metadata": {},
     "output_type": "execute_result"
    }
   ],
   "source": [
    "adata.uns['rank_genes_groups']\n",
    "# Get the results of the DEG analysis, names, scores, logfoldchanges, pvals and pvals_adj"
   ]
  },
  {
   "cell_type": "code",
   "execution_count": 42,
   "metadata": {},
   "outputs": [
    {
     "data": {
      "application/vnd.microsoft.datawrangler.viewer.v0+json": {
       "columns": [
        {
         "name": "index",
         "rawType": "int64",
         "type": "integer"
        },
        {
         "name": "genes",
         "rawType": "object",
         "type": "string"
        },
        {
         "name": "scores",
         "rawType": "float32",
         "type": "float"
        },
        {
         "name": "pvals",
         "rawType": "float64",
         "type": "float"
        },
        {
         "name": "pvals_adj",
         "rawType": "float64",
         "type": "float"
        },
        {
         "name": "logfoldchanges",
         "rawType": "float32",
         "type": "float"
        }
       ],
       "conversionMethod": "pd.DataFrame",
       "ref": "cc4b5128-5c6c-4360-85c2-b2eb2980d476",
       "rows": [
        [
         "0",
         "Ina",
         "35.1792",
         "5.0506939412058966e-05",
         "0.01973831418206491",
         "20.780218"
        ],
        [
         "1",
         "Eif5a",
         "32.732117",
         "5.377193264318051e-07",
         "0.006328133352652778",
         "0.57213813"
        ],
        [
         "2",
         "Sult1a1",
         "22.113731",
         "5.689744068200664e-07",
         "0.006328133352652778",
         "1.2914876"
        ],
        [
         "3",
         "Clca3a1",
         "21.184599",
         "1.3310101420743557e-06",
         "0.0072513377773173685",
         "2.8848908"
        ],
        [
         "4",
         "Ndel1",
         "20.456598",
         "8.900322174406994e-07",
         "0.006599292214916972",
         "0.3606964"
        ],
        [
         "5",
         "Eci2",
         "20.03953",
         "5.057920825290865e-05",
         "0.01973831418206491",
         "0.6565699"
        ],
        [
         "6",
         "Tnfsf9",
         "18.539228",
         "1.7212001660390161e-06",
         "0.0072513377773173685",
         "1.6269786"
        ],
        [
         "7",
         "Serpina3n",
         "18.091679",
         "6.137114347832778e-05",
         "0.020683935083817016",
         "3.357626"
        ],
        [
         "8",
         "Sec24d",
         "17.89837",
         "1.9559443743887886e-06",
         "0.0072513377773173685",
         "0.3579781"
        ],
        [
         "9",
         "Ereg",
         "15.54577",
         "0.0004650909950449948",
         "0.03154111004201483",
         "5.160591"
        ],
        [
         "10",
         "Slc25a34",
         "15.370699",
         "9.104030479334887e-05",
         "0.021540380651629665",
         "1.8275653"
        ],
        [
         "11",
         "Mslnl",
         "15.109853",
         "3.226271094532792e-05",
         "0.017453533507470736",
         "2.4566698"
        ],
        [
         "12",
         "Cxcl14",
         "15.106778",
         "9.499442910381278e-06",
         "0.010743563463859997",
         "1.4029021"
        ],
        [
         "13",
         "Angptl4",
         "15.057171",
         "0.00011946826540016407",
         "0.022432476749682777",
         "2.4839208"
        ],
        [
         "14",
         "Spocd1",
         "15.011306",
         "0.0006416826050757871",
         "0.03541833217693749",
         "21.18501"
        ],
        [
         "15",
         "Rnf151",
         "14.880106",
         "0.000123826109533226",
         "0.022432476749682777",
         "4.58149"
        ],
        [
         "16",
         "Hmbs",
         "14.857161",
         "1.062571462888509e-05",
         "0.010743563463859997",
         "0.83893406"
        ],
        [
         "17",
         "Rilp",
         "14.497645",
         "5.281992346914902e-05",
         "0.020198358197951734",
         "0.60904366"
        ],
        [
         "18",
         "Cox6a1",
         "14.448991",
         "0.00021690099541156664",
         "0.02568602561325114",
         "0.35265532"
        ],
        [
         "19",
         "Aldoa",
         "14.228178",
         "9.62439363854146e-06",
         "0.010743563463859997",
         "0.51577"
        ],
        [
         "20",
         "Lgmn",
         "14.204923",
         "8.417243701110267e-06",
         "0.010743563463859997",
         "0.56336075"
        ],
        [
         "21",
         "Apod",
         "14.197209",
         "1.0091598784275242e-05",
         "0.010743563463859997",
         "2.0187201"
        ],
        [
         "22",
         "Dnph1",
         "13.952669",
         "1.977961124719016e-05",
         "0.014665922419416597",
         "1.2476866"
        ],
        [
         "23",
         "Tmem147",
         "13.925335",
         "1.4618249433636495e-05",
         "0.012506474630838853",
         "0.52701586"
        ],
        [
         "24",
         "Tbcb",
         "13.909698",
         "8.8296807540195e-06",
         "0.010743563463859997",
         "0.5724439"
        ],
        [
         "25",
         "Ptger4",
         "13.895903",
         "9.523398798149616e-06",
         "0.010743563463859997",
         "0.9601621"
        ],
        [
         "26",
         "Cks1b",
         "13.775969",
         "9.993595519826874e-06",
         "0.010743563463859997",
         "0.9775833"
        ],
        [
         "27",
         "Aif1l",
         "13.492034",
         "0.00010487219555556005",
         "0.021912351642629578",
         "0.95746994"
        ],
        [
         "28",
         "Paxx",
         "13.423023",
         "0.00045214339445524864",
         "0.031234402690256367",
         "0.32645628"
        ],
        [
         "29",
         "Plin2",
         "13.102962",
         "3.880971089366056e-05",
         "0.017826353038034384",
         "1.144924"
        ],
        [
         "30",
         "Mcfd2",
         "12.9927635",
         "1.3136839357166271e-05",
         "0.011976435007887415",
         "0.58672106"
        ],
        [
         "31",
         "Gm7827",
         "12.811067",
         "0.00010826531712581829",
         "0.02206483565383814",
         "4.183321"
        ],
        [
         "32",
         "Anxa3",
         "12.662463",
         "7.471730015249835e-05",
         "0.02119892959911928",
         "1.0148121"
        ],
        [
         "33",
         "Ctps1",
         "12.551076",
         "0.00018276702647473069",
         "0.025179423135124303",
         "1.1487495"
        ],
        [
         "34",
         "Slc29a4",
         "12.49745",
         "0.00020625852623972317",
         "0.025624425366667175",
         "1.9361534"
        ],
        [
         "35",
         "Sall3",
         "12.466675",
         "7.328829869580357e-05",
         "0.02119892959911928",
         "4.686568"
        ],
        [
         "36",
         "Timp1",
         "12.235945",
         "0.0008418457321936099",
         "0.03771469380404234",
         "3.420411"
        ],
        [
         "37",
         "Marchf3",
         "11.897406",
         "3.6402817902082184e-05",
         "0.017603136552476438",
         "0.5920026"
        ],
        [
         "38",
         "Ddit4",
         "11.830461",
         "2.4124499298050697e-05",
         "0.01626137461775272",
         "1.3847965"
        ],
        [
         "39",
         "Ech1",
         "11.549416",
         "2.780395984129566e-05",
         "0.01717975785304946",
         "0.5102183"
        ],
        [
         "40",
         "Gm36789",
         "11.540791",
         "0.0013968452545561755",
         "0.04532749300849102",
         "22.46479"
        ],
        [
         "41",
         "Ftl1",
         "11.434804",
         "3.791229965680765e-05",
         "0.017826353038034384",
         "0.6936263"
        ],
        [
         "42",
         "Slc39a14",
         "11.348179",
         "0.000723499025306411",
         "0.03683219619363126",
         "1.9466703"
        ],
        [
         "43",
         "Rps2",
         "11.273293",
         "0.0007085123957727648",
         "0.03683219619363126",
         "0.84702003"
        ],
        [
         "44",
         "Map3k8",
         "11.2102",
         "0.00030965165392497594",
         "0.029093925391877995",
         "0.3551447"
        ],
        [
         "45",
         "Medag",
         "11.143638",
         "8.169985848371727e-05",
         "0.02119892959911928",
         "1.1855979"
        ],
        [
         "46",
         "Slc4a9",
         "11.142423",
         "3.362293737365795e-05",
         "0.017453533507470736",
         "2.755221"
        ],
        [
         "47",
         "Myc",
         "11.081201",
         "6.3596373758015e-05",
         "0.020803496145195378",
         "1.8586257"
        ],
        [
         "48",
         "Ch25h",
         "11.065575",
         "0.0003489479465370267",
         "0.029556601515456804",
         "2.444935"
        ],
        [
         "49",
         "Best1",
         "10.989544",
         "9.199497221294814e-05",
         "0.021540380651629665",
         "0.7325134"
        ]
       ],
       "shape": {
        "columns": 5,
        "rows": 22244
       }
      },
      "text/html": [
       "<div>\n",
       "<style scoped>\n",
       "    .dataframe tbody tr th:only-of-type {\n",
       "        vertical-align: middle;\n",
       "    }\n",
       "\n",
       "    .dataframe tbody tr th {\n",
       "        vertical-align: top;\n",
       "    }\n",
       "\n",
       "    .dataframe thead th {\n",
       "        text-align: right;\n",
       "    }\n",
       "</style>\n",
       "<table border=\"1\" class=\"dataframe\">\n",
       "  <thead>\n",
       "    <tr style=\"text-align: right;\">\n",
       "      <th></th>\n",
       "      <th>genes</th>\n",
       "      <th>scores</th>\n",
       "      <th>pvals</th>\n",
       "      <th>pvals_adj</th>\n",
       "      <th>logfoldchanges</th>\n",
       "    </tr>\n",
       "  </thead>\n",
       "  <tbody>\n",
       "    <tr>\n",
       "      <th>0</th>\n",
       "      <td>Ina</td>\n",
       "      <td>35.179199</td>\n",
       "      <td>5.050694e-05</td>\n",
       "      <td>0.019738</td>\n",
       "      <td>20.780218</td>\n",
       "    </tr>\n",
       "    <tr>\n",
       "      <th>1</th>\n",
       "      <td>Eif5a</td>\n",
       "      <td>32.732117</td>\n",
       "      <td>5.377193e-07</td>\n",
       "      <td>0.006328</td>\n",
       "      <td>0.572138</td>\n",
       "    </tr>\n",
       "    <tr>\n",
       "      <th>2</th>\n",
       "      <td>Sult1a1</td>\n",
       "      <td>22.113731</td>\n",
       "      <td>5.689744e-07</td>\n",
       "      <td>0.006328</td>\n",
       "      <td>1.291488</td>\n",
       "    </tr>\n",
       "    <tr>\n",
       "      <th>3</th>\n",
       "      <td>Clca3a1</td>\n",
       "      <td>21.184599</td>\n",
       "      <td>1.331010e-06</td>\n",
       "      <td>0.007251</td>\n",
       "      <td>2.884891</td>\n",
       "    </tr>\n",
       "    <tr>\n",
       "      <th>4</th>\n",
       "      <td>Ndel1</td>\n",
       "      <td>20.456598</td>\n",
       "      <td>8.900322e-07</td>\n",
       "      <td>0.006599</td>\n",
       "      <td>0.360696</td>\n",
       "    </tr>\n",
       "    <tr>\n",
       "      <th>...</th>\n",
       "      <td>...</td>\n",
       "      <td>...</td>\n",
       "      <td>...</td>\n",
       "      <td>...</td>\n",
       "      <td>...</td>\n",
       "    </tr>\n",
       "    <tr>\n",
       "      <th>22239</th>\n",
       "      <td>Enkur</td>\n",
       "      <td>-16.194048</td>\n",
       "      <td>8.402870e-05</td>\n",
       "      <td>0.021199</td>\n",
       "      <td>-2.422188</td>\n",
       "    </tr>\n",
       "    <tr>\n",
       "      <th>22240</th>\n",
       "      <td>Slc10a5</td>\n",
       "      <td>-16.714750</td>\n",
       "      <td>4.880408e-06</td>\n",
       "      <td>0.010744</td>\n",
       "      <td>-2.996701</td>\n",
       "    </tr>\n",
       "    <tr>\n",
       "      <th>22241</th>\n",
       "      <td>Ppp1r36</td>\n",
       "      <td>-18.920444</td>\n",
       "      <td>1.632290e-05</td>\n",
       "      <td>0.012967</td>\n",
       "      <td>-1.865873</td>\n",
       "    </tr>\n",
       "    <tr>\n",
       "      <th>22242</th>\n",
       "      <td>Ddc</td>\n",
       "      <td>-19.355425</td>\n",
       "      <td>1.346030e-05</td>\n",
       "      <td>0.011976</td>\n",
       "      <td>-1.643647</td>\n",
       "    </tr>\n",
       "    <tr>\n",
       "      <th>22243</th>\n",
       "      <td>Cyp2g1</td>\n",
       "      <td>-22.535770</td>\n",
       "      <td>1.011097e-05</td>\n",
       "      <td>0.010744</td>\n",
       "      <td>-2.760505</td>\n",
       "    </tr>\n",
       "  </tbody>\n",
       "</table>\n",
       "<p>22244 rows × 5 columns</p>\n",
       "</div>"
      ],
      "text/plain": [
       "         genes     scores         pvals  pvals_adj  logfoldchanges\n",
       "0          Ina  35.179199  5.050694e-05   0.019738       20.780218\n",
       "1        Eif5a  32.732117  5.377193e-07   0.006328        0.572138\n",
       "2      Sult1a1  22.113731  5.689744e-07   0.006328        1.291488\n",
       "3      Clca3a1  21.184599  1.331010e-06   0.007251        2.884891\n",
       "4        Ndel1  20.456598  8.900322e-07   0.006599        0.360696\n",
       "...        ...        ...           ...        ...             ...\n",
       "22239    Enkur -16.194048  8.402870e-05   0.021199       -2.422188\n",
       "22240  Slc10a5 -16.714750  4.880408e-06   0.010744       -2.996701\n",
       "22241  Ppp1r36 -18.920444  1.632290e-05   0.012967       -1.865873\n",
       "22242      Ddc -19.355425  1.346030e-05   0.011976       -1.643647\n",
       "22243   Cyp2g1 -22.535770  1.011097e-05   0.010744       -2.760505\n",
       "\n",
       "[22244 rows x 5 columns]"
      ]
     },
     "execution_count": 42,
     "metadata": {},
     "output_type": "execute_result"
    }
   ],
   "source": [
    "results = adata.uns['rank_genes_groups']\n",
    "deg_df = pd.DataFrame({\n",
    "    'genes': results['names']['Treated'],\n",
    "    'scores': results['scores']['Treated'],\n",
    "    'pvals': results['pvals']['Treated'],\n",
    "    'pvals_adj': results['pvals_adj']['Treated'],\n",
    "    'logfoldchanges': results['logfoldchanges']['Treated']\n",
    "})\n",
    "# makes it as dataframe for easy processing with pandas\n",
    "deg_df\n"
   ]
  },
  {
   "cell_type": "code",
   "execution_count": 63,
   "metadata": {},
   "outputs": [
    {
     "data": {
      "application/vnd.microsoft.datawrangler.viewer.v0+json": {
       "columns": [
        {
         "name": "index",
         "rawType": "int64",
         "type": "integer"
        },
        {
         "name": "genes",
         "rawType": "object",
         "type": "string"
        },
        {
         "name": "scores",
         "rawType": "float32",
         "type": "float"
        },
        {
         "name": "pvals",
         "rawType": "float64",
         "type": "float"
        },
        {
         "name": "pvals_adj",
         "rawType": "float64",
         "type": "float"
        },
        {
         "name": "logfoldchanges",
         "rawType": "float32",
         "type": "float"
        },
        {
         "name": "significant",
         "rawType": "bool",
         "type": "boolean"
        }
       ],
       "conversionMethod": "pd.DataFrame",
       "ref": "78db444e-d3ca-4d1b-b4a6-076a898be3f9",
       "rows": [
        [
         "40",
         "Gm36789",
         "11.540791",
         "0.0013968452545561755",
         "0.04532749300849102",
         "22.46479",
         "True"
        ],
        [
         "14",
         "Spocd1",
         "15.011306",
         "0.0006416826050757871",
         "0.03541833217693749",
         "21.18501",
         "True"
        ],
        [
         "0",
         "Ina",
         "35.1792",
         "5.0506939412058966e-05",
         "0.01973831418206491",
         "20.780218",
         "True"
        ],
        [
         "62",
         "Prok2",
         "10.247182",
         "0.0019813670466618995",
         "0.04979693112325958",
         "20.507015",
         "True"
        ],
        [
         "64",
         "Rnf212",
         "10.247182",
         "0.0019813670466618995",
         "0.04979693112325958",
         "20.507015",
         "True"
        ],
        [
         "63",
         "Vmn1r188",
         "10.247182",
         "0.0019813670466618995",
         "0.04979693112325958",
         "20.507015",
         "True"
        ],
        [
         "66",
         "Ccdc182",
         "10.243494",
         "0.001983459853228196",
         "0.04979693112325958",
         "19.507032",
         "True"
        ],
        [
         "65",
         "Pdyn",
         "10.243494",
         "0.001983459853228196",
         "0.04979693112325958",
         "19.507032",
         "True"
        ],
        [
         "9",
         "Ereg",
         "15.54577",
         "0.0004650909950449948",
         "0.03154111004201483",
         "5.160591",
         "True"
        ],
        [
         "35",
         "Sall3",
         "12.466675",
         "7.328829869580357e-05",
         "0.02119892959911928",
         "4.686568",
         "True"
        ],
        [
         "15",
         "Rnf151",
         "14.880106",
         "0.000123826109533226",
         "0.022432476749682777",
         "4.58149",
         "True"
        ],
        [
         "100",
         "Gcnt3",
         "9.20992",
         "0.001520631564331603",
         "0.04652672423245142",
         "4.42893",
         "True"
        ],
        [
         "31",
         "Gm7827",
         "12.811067",
         "0.00010826531712581829",
         "0.02206483565383814",
         "4.183321",
         "True"
        ],
        [
         "116",
         "Hmga2",
         "8.943487",
         "0.0011372935164470504",
         "0.0415401592444141",
         "4.048413",
         "True"
        ],
        [
         "186",
         "Oog4",
         "7.659964",
         "0.00038497809148083816",
         "0.029721021798820788",
         "3.7997313",
         "True"
        ],
        [
         "117",
         "Lingo3",
         "8.928496",
         "0.00015078961221428648",
         "0.023656943316882943",
         "3.5186322",
         "True"
        ],
        [
         "59",
         "Alpl",
         "10.422849",
         "0.0018714069457527293",
         "0.04897361894273378",
         "3.4425063",
         "True"
        ],
        [
         "36",
         "Timp1",
         "12.235945",
         "0.0008418457321936099",
         "0.03771469380404234",
         "3.420411",
         "True"
        ],
        [
         "7",
         "Serpina3n",
         "18.091679",
         "6.137114347832778e-05",
         "0.020683935083817016",
         "3.357626",
         "True"
        ],
        [
         "327",
         "Prph",
         "6.400702",
         "0.0009205341252459844",
         "0.038634643550889955",
         "3.169685",
         "True"
        ],
        [
         "311",
         "Hspa1a",
         "6.5285125",
         "0.0008721319648430338",
         "0.03825821306790455",
         "3.050866",
         "True"
        ],
        [
         "312",
         "Tubb3",
         "6.524805",
         "0.0012636205544938263",
         "0.042931013181942874",
         "2.905483",
         "True"
        ],
        [
         "3",
         "Clca3a1",
         "21.184599",
         "1.3310101420743557e-06",
         "0.0072513377773173685",
         "2.8848908",
         "True"
        ],
        [
         "104",
         "Areg",
         "9.12175",
         "0.0016990824510925604",
         "0.04775728199943335",
         "2.7557325",
         "True"
        ],
        [
         "46",
         "Slc4a9",
         "11.142423",
         "3.362293737365795e-05",
         "0.017453533507470736",
         "2.755221",
         "True"
        ],
        [
         "158",
         "Cldn19",
         "7.9938173",
         "0.0005211542810226535",
         "0.032491138116258554",
         "2.5239818",
         "True"
        ],
        [
         "13",
         "Angptl4",
         "15.057171",
         "0.00011946826540016407",
         "0.022432476749682777",
         "2.4839208",
         "True"
        ],
        [
         "11",
         "Mslnl",
         "15.109853",
         "3.226271094532792e-05",
         "0.017453533507470736",
         "2.4566698",
         "True"
        ],
        [
         "48",
         "Ch25h",
         "11.065575",
         "0.0003489479465370267",
         "0.029556601515456804",
         "2.444935",
         "True"
        ],
        [
         "107",
         "P4ha3",
         "9.093781",
         "0.0019248618371314682",
         "0.04967126067883107",
         "2.4095364",
         "True"
        ],
        [
         "520",
         "Tmem151b",
         "5.462772",
         "0.0015853231020900827",
         "0.04664540619430132",
         "2.2598162",
         "True"
        ],
        [
         "53",
         "Map3k6",
         "10.795915",
         "0.00028389765807427294",
         "0.028115721076577116",
         "2.232198",
         "True"
        ],
        [
         "123",
         "Fam107a",
         "8.735739",
         "0.001951154418159367",
         "0.04976777125057584",
         "2.19694",
         "True"
        ],
        [
         "60",
         "Lcn2",
         "10.358466",
         "9.189456290338078e-05",
         "0.021540380651629665",
         "2.1865282",
         "True"
        ],
        [
         "51",
         "Efr3b",
         "10.876582",
         "0.001057948860332044",
         "0.04106983324472249",
         "2.0351915",
         "True"
        ],
        [
         "21",
         "Apod",
         "14.197209",
         "1.0091598784275242e-05",
         "0.010743563463859997",
         "2.0187201",
         "True"
        ],
        [
         "150",
         "Vcan",
         "8.158265",
         "0.0007795467783393939",
         "0.03713113177169482",
         "1.9946333",
         "True"
        ],
        [
         "42",
         "Slc39a14",
         "11.348179",
         "0.000723499025306411",
         "0.03683219619363126",
         "1.9466703",
         "True"
        ],
        [
         "34",
         "Slc29a4",
         "12.49745",
         "0.00020625852623972317",
         "0.025624425366667175",
         "1.9361534",
         "True"
        ],
        [
         "79",
         "Snai3",
         "9.672033",
         "7.319594650845669e-05",
         "0.02119892959911928",
         "1.898946",
         "True"
        ],
        [
         "72",
         "Mmp3",
         "9.894639",
         "0.0002843929707889701",
         "0.028115721076577116",
         "1.8914255",
         "True"
        ],
        [
         "47",
         "Myc",
         "11.081201",
         "6.3596373758015e-05",
         "0.020803496145195378",
         "1.8586257",
         "True"
        ],
        [
         "280",
         "Cimip2a",
         "6.796343",
         "0.0005149741721727287",
         "0.032491138116258554",
         "1.8280375",
         "True"
        ],
        [
         "10",
         "Slc25a34",
         "15.370699",
         "9.104030479334887e-05",
         "0.021540380651629665",
         "1.8275653",
         "True"
        ],
        [
         "386",
         "Gm10654",
         "6.033847",
         "0.0009977566649565913",
         "0.03967909242823217",
         "1.8158952",
         "True"
        ],
        [
         "122",
         "Il11",
         "8.7435665",
         "0.00012610413888482376",
         "0.022432476749682777",
         "1.7102392",
         "True"
        ],
        [
         "374",
         "Soat2",
         "6.1304297",
         "0.001821466422162999",
         "0.04874068634711315",
         "1.6595831",
         "True"
        ],
        [
         "54",
         "Myrip",
         "10.668174",
         "0.0013977637757103653",
         "0.04532749300849102",
         "1.6427032",
         "True"
        ],
        [
         "6",
         "Tnfsf9",
         "18.539228",
         "1.7212001660390161e-06",
         "0.0072513377773173685",
         "1.6269786",
         "True"
        ],
        [
         "405",
         "Chrna7",
         "5.93983",
         "0.001052879002235804",
         "0.040944476443589554",
         "1.6120862",
         "True"
        ]
       ],
       "shape": {
        "columns": 6,
        "rows": 85
       }
      },
      "text/html": [
       "<div>\n",
       "<style scoped>\n",
       "    .dataframe tbody tr th:only-of-type {\n",
       "        vertical-align: middle;\n",
       "    }\n",
       "\n",
       "    .dataframe tbody tr th {\n",
       "        vertical-align: top;\n",
       "    }\n",
       "\n",
       "    .dataframe thead th {\n",
       "        text-align: right;\n",
       "    }\n",
       "</style>\n",
       "<table border=\"1\" class=\"dataframe\">\n",
       "  <thead>\n",
       "    <tr style=\"text-align: right;\">\n",
       "      <th></th>\n",
       "      <th>genes</th>\n",
       "      <th>scores</th>\n",
       "      <th>pvals</th>\n",
       "      <th>pvals_adj</th>\n",
       "      <th>logfoldchanges</th>\n",
       "      <th>significant</th>\n",
       "    </tr>\n",
       "  </thead>\n",
       "  <tbody>\n",
       "    <tr>\n",
       "      <th>40</th>\n",
       "      <td>Gm36789</td>\n",
       "      <td>11.540791</td>\n",
       "      <td>0.001397</td>\n",
       "      <td>0.045327</td>\n",
       "      <td>22.464790</td>\n",
       "      <td>True</td>\n",
       "    </tr>\n",
       "    <tr>\n",
       "      <th>14</th>\n",
       "      <td>Spocd1</td>\n",
       "      <td>15.011306</td>\n",
       "      <td>0.000642</td>\n",
       "      <td>0.035418</td>\n",
       "      <td>21.185011</td>\n",
       "      <td>True</td>\n",
       "    </tr>\n",
       "    <tr>\n",
       "      <th>0</th>\n",
       "      <td>Ina</td>\n",
       "      <td>35.179199</td>\n",
       "      <td>0.000051</td>\n",
       "      <td>0.019738</td>\n",
       "      <td>20.780218</td>\n",
       "      <td>True</td>\n",
       "    </tr>\n",
       "    <tr>\n",
       "      <th>62</th>\n",
       "      <td>Prok2</td>\n",
       "      <td>10.247182</td>\n",
       "      <td>0.001981</td>\n",
       "      <td>0.049797</td>\n",
       "      <td>20.507015</td>\n",
       "      <td>True</td>\n",
       "    </tr>\n",
       "    <tr>\n",
       "      <th>64</th>\n",
       "      <td>Rnf212</td>\n",
       "      <td>10.247182</td>\n",
       "      <td>0.001981</td>\n",
       "      <td>0.049797</td>\n",
       "      <td>20.507015</td>\n",
       "      <td>True</td>\n",
       "    </tr>\n",
       "    <tr>\n",
       "      <th>...</th>\n",
       "      <td>...</td>\n",
       "      <td>...</td>\n",
       "      <td>...</td>\n",
       "      <td>...</td>\n",
       "      <td>...</td>\n",
       "      <td>...</td>\n",
       "    </tr>\n",
       "    <tr>\n",
       "      <th>139</th>\n",
       "      <td>Selenbp1</td>\n",
       "      <td>8.274279</td>\n",
       "      <td>0.000380</td>\n",
       "      <td>0.029721</td>\n",
       "      <td>1.046252</td>\n",
       "      <td>True</td>\n",
       "    </tr>\n",
       "    <tr>\n",
       "      <th>330</th>\n",
       "      <td>Pthlh</td>\n",
       "      <td>6.372928</td>\n",
       "      <td>0.000769</td>\n",
       "      <td>0.037063</td>\n",
       "      <td>1.046019</td>\n",
       "      <td>True</td>\n",
       "    </tr>\n",
       "    <tr>\n",
       "      <th>81</th>\n",
       "      <td>Ovol1</td>\n",
       "      <td>9.580326</td>\n",
       "      <td>0.001275</td>\n",
       "      <td>0.043153</td>\n",
       "      <td>1.037146</td>\n",
       "      <td>True</td>\n",
       "    </tr>\n",
       "    <tr>\n",
       "      <th>32</th>\n",
       "      <td>Anxa3</td>\n",
       "      <td>12.662463</td>\n",
       "      <td>0.000075</td>\n",
       "      <td>0.021199</td>\n",
       "      <td>1.014812</td>\n",
       "      <td>True</td>\n",
       "    </tr>\n",
       "    <tr>\n",
       "      <th>114</th>\n",
       "      <td>Serinc3</td>\n",
       "      <td>8.961010</td>\n",
       "      <td>0.000132</td>\n",
       "      <td>0.022432</td>\n",
       "      <td>1.002448</td>\n",
       "      <td>True</td>\n",
       "    </tr>\n",
       "  </tbody>\n",
       "</table>\n",
       "<p>85 rows × 6 columns</p>\n",
       "</div>"
      ],
      "text/plain": [
       "        genes     scores     pvals  pvals_adj  logfoldchanges  significant\n",
       "40    Gm36789  11.540791  0.001397   0.045327       22.464790         True\n",
       "14     Spocd1  15.011306  0.000642   0.035418       21.185011         True\n",
       "0         Ina  35.179199  0.000051   0.019738       20.780218         True\n",
       "62      Prok2  10.247182  0.001981   0.049797       20.507015         True\n",
       "64     Rnf212  10.247182  0.001981   0.049797       20.507015         True\n",
       "..        ...        ...       ...        ...             ...          ...\n",
       "139  Selenbp1   8.274279  0.000380   0.029721        1.046252         True\n",
       "330     Pthlh   6.372928  0.000769   0.037063        1.046019         True\n",
       "81      Ovol1   9.580326  0.001275   0.043153        1.037146         True\n",
       "32      Anxa3  12.662463  0.000075   0.021199        1.014812         True\n",
       "114   Serinc3   8.961010  0.000132   0.022432        1.002448         True\n",
       "\n",
       "[85 rows x 6 columns]"
      ]
     },
     "execution_count": 63,
     "metadata": {},
     "output_type": "execute_result"
    }
   ],
   "source": [
    "# Filter for significant DEGs \n",
    "significant_degs = deg_df[\n",
    "    (deg_df['pvals_adj'] < 0.05) &              # Adjusted p-value < 0.05, u can also filter with other parameters\n",
    "    (deg_df['scores'] > 0) &                    # Positive score\n",
    "    (deg_df['logfoldchanges'].abs() > 1)        # |log2 fold change| > 1\n",
    "]\n",
    "\n",
    "significant_degs = significant_degs.sort_values('logfoldchanges', ascending=False)\n",
    "# Get the one with high lfc\n",
    "\n",
    "significant_degs"
   ]
  },
  {
   "cell_type": "code",
   "execution_count": 65,
   "metadata": {},
   "outputs": [
    {
     "name": "stdout",
     "output_type": "stream",
     "text": [
      "\n",
      "DEG Analysis Summary:\n",
      "Total genes analyzed: 22244\n",
      "Significant DEGs: 85\n"
     ]
    },
    {
     "data": {
      "image/png": "[encoded data removed]",
      "text/plain": [
       "<Figure size 1000x600 with 1 Axes>"
      ]
     },
     "metadata": {},
     "output_type": "display_data"
    }
   ],
   "source": [
    "deg_df['significant'] = (deg_df['pvals_adj'] < 0.05) & (abs(deg_df['logfoldchanges'] > 1) & (deg_df['scores'] > 0))\n",
    "# Can also add new column for significant DEGs, instead of getting new gane list\n",
    "\n",
    "import numpy as np\n",
    "import matplotlib.pyplot as plt\n",
    "\n",
    "# Plot simple volcano plot\n",
    "plt.figure(figsize=(10, 6))\n",
    "plt.scatter(deg_df['logfoldchanges'], \n",
    "           -np.log10(deg_df['pvals_adj']),\n",
    "           alpha=0.5,s=0.35)\n",
    "\n",
    "# 3 lines, lfc = -1 and 1, adj_pval = 0.05\n",
    "plt.axhline(-np.log10(0.05), color='red', linestyle='--')\n",
    "plt.axvline(-1, color='red', linestyle='--',label='log2FC=1')\n",
    "plt.axvline(1, color='red', linestyle='--',label='log2FC=-1')\n",
    "plt.xlabel('Log2 Fold Change')\n",
    "plt.ylabel('-log10(adjusted p-value)')\n",
    "plt.title('Volcano Plot')\n",
    "\n",
    "print(\"\\nDEG Analysis Summary:\")\n",
    "print(f\"Total genes analyzed: {len(deg_df)}\")\n",
    "print(f\"Significant DEGs: {sum(deg_df['significant'])}\")"
   ]
  }
 ],
 "metadata": {
  "kernelspec": {
   "display_name": "bio_env",
   "language": "python",
   "name": "python3"
  },
  "language_info": {
   "codemirror_mode": {
    "name": "ipython",
    "version": 3
   },
   "file_extension": ".py",
   "mimetype": "text/x-python",
   "name": "python",
   "nbconvert_exporter": "python",
   "pygments_lexer": "ipython3",
   "version": "3.9.21"
  }
 },
 "nbformat": 4,
 "nbformat_minor": 2
}
