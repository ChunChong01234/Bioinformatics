{
 "cells": [
  {
   "cell_type": "markdown",
   "metadata": {},
   "source": [
    "# Fastq file preprocessing"
   ]
  },
  {
   "cell_type": "code",
   "execution_count": 3,
   "metadata": {},
   "outputs": [
    {
     "name": "stdout",
     "output_type": "stream",
     "text": [
      "Processing: Data/Fastq_Data_preprocess/SRR5309277.fastq\n",
      "Record Number = 26988845\n",
      "Processing: Data/Fastq_Data_preprocess/SRR5309286.fastq\n",
      "Record Number = 34658939\n"
     ]
    }
   ],
   "source": [
    "data_dir = 'Data/Fastq_Data_preprocess'\n",
    "\n",
    "from Bio import SeqIO\n",
    "# Import Biopython.SeqIO for reading reading sequence files\n",
    "\n",
    "import gzip\n",
    "# Import gzip for reading compressed files, in this case, the files is not compressed\n",
    "\n",
    "import os\n",
    "# Import os for reading files and interact in directory\n",
    "\n",
    "for filename in os.listdir(data_dir):\n",
    "    if filename.endswith(\".fastq\"):  # Look for file that ends with .fastq in the base dir\n",
    "        file_path = os.path.join(data_dir, filename)\n",
    "        print(f\"Processing: {file_path}\")\n",
    "\n",
    "        with open(file_path, \"rt\") as handle:\n",
    "            r = 0 # Initialize counter for record number\n",
    "            for record in SeqIO.parse(handle, \"fastq\"):\n",
    "                r +=1\n",
    "                # ID, sequence and quality can be print, but im just gonna look for record number\n",
    "                #print(f\"ID: {record.id}\")\n",
    "                #print(f\"Sequence: {record.seq}\")\n",
    "                #print(f\"Quality: {record.letter_annotations['phred_quality']}\\n\")\n",
    "\n",
    "            print('Record Number =', r)\n"
   ]
  },
  {
   "cell_type": "code",
   "execution_count": 5,
   "metadata": {},
   "outputs": [
    {
     "name": "stdout",
     "output_type": "stream",
     "text": [
      "Processing: Data/Fastq_Data_preprocess/SRR5309277.fastq\n",
      "null\n"
     ]
    },
    {
     "name": "stderr",
     "output_type": "stream",
     "text": [
      "Started analysis of SRR5309277.fastq\n",
      "Approx 5% complete for SRR5309277.fastq\n",
      "Approx 10% complete for SRR5309277.fastq\n",
      "Approx 15% complete for SRR5309277.fastq\n",
      "Approx 20% complete for SRR5309277.fastq\n",
      "Approx 25% complete for SRR5309277.fastq\n",
      "Approx 30% complete for SRR5309277.fastq\n",
      "Approx 35% complete for SRR5309277.fastq\n",
      "Approx 40% complete for SRR5309277.fastq\n",
      "Approx 45% complete for SRR5309277.fastq\n",
      "Approx 50% complete for SRR5309277.fastq\n",
      "Approx 55% complete for SRR5309277.fastq\n",
      "Approx 60% complete for SRR5309277.fastq\n",
      "Approx 65% complete for SRR5309277.fastq\n",
      "Approx 70% complete for SRR5309277.fastq\n",
      "Approx 75% complete for SRR5309277.fastq\n",
      "Approx 80% complete for SRR5309277.fastq\n",
      "Approx 85% complete for SRR5309277.fastq\n",
      "Approx 90% complete for SRR5309277.fastq\n",
      "Approx 95% complete for SRR5309277.fastq\n"
     ]
    },
    {
     "name": "stdout",
     "output_type": "stream",
     "text": [
      "Analysis complete for SRR5309277.fastq\n",
      "Processing: Data/Fastq_Data_preprocess/SRR5309286.fastq\n",
      "null\n"
     ]
    },
    {
     "name": "stderr",
     "output_type": "stream",
     "text": [
      "Started analysis of SRR5309286.fastq\n",
      "Approx 5% complete for SRR5309286.fastq\n",
      "Approx 10% complete for SRR5309286.fastq\n",
      "Approx 15% complete for SRR5309286.fastq\n",
      "Approx 20% complete for SRR5309286.fastq\n",
      "Approx 25% complete for SRR5309286.fastq\n",
      "Approx 30% complete for SRR5309286.fastq\n",
      "Approx 35% complete for SRR5309286.fastq\n",
      "Approx 40% complete for SRR5309286.fastq\n",
      "Approx 45% complete for SRR5309286.fastq\n",
      "Approx 50% complete for SRR5309286.fastq\n",
      "Approx 55% complete for SRR5309286.fastq\n",
      "Approx 60% complete for SRR5309286.fastq\n",
      "Approx 65% complete for SRR5309286.fastq\n",
      "Approx 70% complete for SRR5309286.fastq\n",
      "Approx 75% complete for SRR5309286.fastq\n",
      "Approx 80% complete for SRR5309286.fastq\n",
      "Approx 85% complete for SRR5309286.fastq\n",
      "Approx 90% complete for SRR5309286.fastq\n",
      "Approx 95% complete for SRR5309286.fastq\n"
     ]
    },
    {
     "name": "stdout",
     "output_type": "stream",
     "text": [
      "Analysis complete for SRR5309286.fastq\n"
     ]
    }
   ],
   "source": [
    "import subprocess\n",
    "# Import subprocess for running external programs in terminal, I dont like using UNIX, so I use this alternative\n",
    "\n",
    "output_dir = \"Data/Fastq_Data_preprocess/Result\"\n",
    "# Create a dir for the output files\n",
    "\n",
    "\n",
    "for filename in os.listdir(data_dir):\n",
    "    if filename.endswith(\".fastq\"):  \n",
    "        # Again look for fastq file\n",
    "        file_path = os.path.join(data_dir, filename)\n",
    "        print(f\"Processing: {file_path}\")\n",
    "        subprocess.run([\"fastqc\", file_path, \"-o\", output_dir], check=True)\n",
    "        # and run fastqc in the terminal, for the file path and output to  output dir"
   ]
  },
  {
   "cell_type": "code",
   "execution_count": 6,
   "metadata": {},
   "outputs": [
    {
     "name": "stderr",
     "output_type": "stream",
     "text": [
      "\n",
      "\u001b[91m///\u001b[0m \u001b]8;id=419611;https://multiqc.info\u001b\\\u001b[1mMultiQC\u001b[0m\u001b]8;;\u001b\\ 🔍 \u001b[2mv1.27.1\u001b[0m\n",
      "\n",
      "\u001b[34m     version_check\u001b[0m | \u001b[33mMultiQC Version v1.28 now available!\u001b[0m\n",
      "\u001b[34m       file_search\u001b[0m | Search path: /home/chongcfu/Bioinformatics project/Data/Fastq_Data_preprocess/Result\n",
      "\u001b[2K         \u001b[34msearching\u001b[0m | \u001b[90m━━━━━━━━━━━━━━━━━━━━━━━━━━━━━━━━━━━━━━━━\u001b[0m \u001b[35m100%\u001b[0m \u001b[32m4/4\u001b[0m  0/4\u001b[0m  \n",
      "\u001b[?25h\u001b[34m            fastqc\u001b[0m | Found 2 reports\n",
      "\u001b[34m     write_results\u001b[0m | Data        : multiqc_data\n",
      "\u001b[34m     write_results\u001b[0m | Report      : multiqc_report.html\n",
      "\u001b[34m           multiqc\u001b[0m | MultiQC complete\n"
     ]
    },
    {
     "data": {
      "text/plain": [
       "CompletedProcess(args=['multiqc', 'Data/Fastq_Data_preprocess/Result'], returncode=0)"
      ]
     },
     "execution_count": 6,
     "metadata": {},
     "output_type": "execute_result"
    }
   ],
   "source": [
    "subprocess.run([\"multiqc\", output_dir], check=True) \n",
    "# Run multiqc in the terminal for the output dir, to generate a report of the fastqc results"
   ]
  },
  {
   "cell_type": "code",
   "execution_count": null,
   "metadata": {},
   "outputs": [
    {
     "name": "stdout",
     "output_type": "stream",
     "text": [
      "Processing: Data/Fastq_Data_preprocess/SRR5309277.fastq\n"
     ]
    },
    {
     "name": "stderr",
     "output_type": "stream",
     "text": [
      "TrimmomaticSE: Started with arguments:\n",
      " -phred33 Data/Fastq_Data_preprocess/SRR5309277.fastq Data/Fastq_Data_preprocess/TrimmedSRR5309277.fastq LEADING:3 TRAILING:3 SLIDINGWINDOW:4:15 MINLEN:36\n",
      "Automatically using 1 threads\n",
      "Input Reads: 26988845 Surviving: 26968211 (99.92%) Dropped: 20634 (0.08%)\n",
      "TrimmomaticSE: Completed successfully\n"
     ]
    },
    {
     "name": "stdout",
     "output_type": "stream",
     "text": [
      "Processing: Data/Fastq_Data_preprocess/SRR5309286.fastq\n"
     ]
    },
    {
     "name": "stderr",
     "output_type": "stream",
     "text": [
      "TrimmomaticSE: Started with arguments:\n",
      " -phred33 Data/Fastq_Data_preprocess/SRR5309286.fastq Data/Fastq_Data_preprocess/TrimmedSRR5309286.fastq LEADING:3 TRAILING:3 SLIDINGWINDOW:4:15 MINLEN:36\n",
      "Automatically using 1 threads\n"
     ]
    }
   ],
   "source": [
    "import subprocess\n",
    "\n",
    "\n",
    "for filename in os.listdir(data_dir):\n",
    "    if filename.endswith(\".fastq\"):  \n",
    "        file_path = os.path.join(data_dir, filename)\n",
    "\n",
    "        print(f\"Processing: {file_path}\")\n",
    "        output_file = file_path.lstrip(data_dir)\n",
    "        output_file = 'Data/Fastq_Data_preprocess/Trimmed'+output_file\n",
    "\n",
    "        subprocess.run([\n",
    "            \"trimmomatic\", \"SE\", \"-phred33\",  # Single-End, Phred score 33\n",
    "            file_path, output_file,\n",
    "            \"LEADING:3\", \"TRAILING:3\",  # Trim low-quality bases at start and end\n",
    "            \"SLIDINGWINDOW:4:15\",  # Remove if average quality < 15 in a 4-base window\n",
    "            \"MINLEN:36\"  # Remove reads shorter than 36bp\n",
    "        ], check=True)\n"
   ]
  }
 ],
 "metadata": {
  "kernelspec": {
   "display_name": "bio_env",
   "language": "python",
   "name": "python3"
  },
  "language_info": {
   "codemirror_mode": {
    "name": "ipython",
    "version": 3
   },
   "file_extension": ".py",
   "mimetype": "text/x-python",
   "name": "python",
   "nbconvert_exporter": "python",
   "pygments_lexer": "ipython3",
   "version": "3.9.21"
  }
 },
 "nbformat": 4,
 "nbformat_minor": 2
}
